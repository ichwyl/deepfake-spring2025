{
 "cells": [
  {
   "cell_type": "code",
   "id": "initial_id",
   "metadata": {
    "collapsed": true,
    "ExecuteTime": {
     "end_time": "2025-05-09T21:10:41.273612Z",
     "start_time": "2025-05-09T21:10:41.258529Z"
    }
   },
   "source": [
    "source_ids = []\n",
    "target_ids = []\n",
    "output_ids = []\n",
    "with open('image_list.txt', 'r') as f:\n",
    "    for line in f.readlines():\n",
    "        line = line.strip()\n",
    "        output_ids.append(line)\n",
    "        line = line[:-4].split('_')\n",
    "        # print(line)\n",
    "        source_ids.append(line[1])\n",
    "        target_ids.append(line[0]+'_'+line[2]+'_'+line[3])"
   ],
   "outputs": [],
   "execution_count": 1
  },
  {
   "metadata": {
    "ExecuteTime": {
     "end_time": "2025-05-09T21:12:42.749614Z",
     "start_time": "2025-05-09T21:12:42.729993Z"
    }
   },
   "cell_type": "code",
   "source": [
    "assert len(source_ids) == len(target_ids) == 1000\n",
    "with open('swap.sh', 'w') as f:\n",
    "    for source_id, target_id, output_id in zip(source_ids, target_ids, output_ids):\n",
    "        f.write(\n",
    "            'python test_wholeimage_swapsingle.py --crop_size 224 --use_mask  --name people --Arc_path arcface_model/arcface_checkpoint.tar --pic_a_path ./source-face/'+source_id+'.png --pic_b_path ./target-frames/'+target_id+'.png --output_path ./output/ --no_simswaplogo --filename '+output_id+'\\n'\n",
    "        )"
   ],
   "id": "983350640713d924",
   "outputs": [],
   "execution_count": 3
  }
 ],
 "metadata": {
  "kernelspec": {
   "display_name": "Python 3",
   "language": "python",
   "name": "python3"
  },
  "language_info": {
   "codemirror_mode": {
    "name": "ipython",
    "version": 2
   },
   "file_extension": ".py",
   "mimetype": "text/x-python",
   "name": "python",
   "nbconvert_exporter": "python",
   "pygments_lexer": "ipython2",
   "version": "2.7.6"
  }
 },
 "nbformat": 4,
 "nbformat_minor": 5
}
