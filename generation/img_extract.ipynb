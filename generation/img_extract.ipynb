{
 "cells": [
  {
   "cell_type": "code",
   "id": "initial_id",
   "metadata": {
    "collapsed": true,
    "ExecuteTime": {
     "end_time": "2025-05-09T14:21:06.322602Z",
     "start_time": "2025-05-09T14:21:06.135433Z"
    }
   },
   "source": [
    "import os\n",
    "import cv2\n",
    "\n",
    "source_ids = []\n",
    "target_ids = []\n",
    "video_idx = []\n",
    "frame_idx = []\n",
    "with open('image_list.txt', 'r') as f:\n",
    "    for line in f.readlines():\n",
    "        line = line.strip()\n",
    "        line = line[:-4].split('_')\n",
    "        # print(line)\n",
    "        source_ids.append(line[1])\n",
    "        target_ids.append(line[0])\n",
    "        video_idx.append(line[2])\n",
    "        frame_idx.append(line[3])"
   ],
   "outputs": [],
   "execution_count": 1
  },
  {
   "metadata": {
    "ExecuteTime": {
     "end_time": "2025-05-08T17:22:32.569905Z",
     "start_time": "2025-05-08T17:22:14.934508Z"
    }
   },
   "cell_type": "code",
   "source": [
    "video_frames = dict()\n",
    "for i in range(len(target_ids)):\n",
    "    video_frames.setdefault(target_ids[i]+'_'+video_idx[i], []).append(frame_idx[i])\n",
    "for v in video_frames:\n",
    "    cap = cv2.VideoCapture('../Celeb-real/'+v+'.mp4')\n",
    "    for frame_id in video_frames[v]:\n",
    "        cap.set(cv2.CAP_PROP_POS_FRAMES, int(frame_id))\n",
    "        ret, frame = cap.read()\n",
    "        cv2.imwrite('./target-frames/'+v+'_'+frame_id+'.png', frame)\n",
    "    cap.release()"
   ],
   "id": "2429ae9cd8bca4c8",
   "outputs": [],
   "execution_count": 5
  },
  {
   "metadata": {
    "ExecuteTime": {
     "end_time": "2025-05-09T14:22:19.646210Z",
     "start_time": "2025-05-09T14:22:03.826757Z"
    }
   },
   "cell_type": "code",
   "source": [
    "for s in source_ids:\n",
    "    cap = cv2.VideoCapture('../Celeb-real/'+s+'_0000.mp4')\n",
    "    ret, frame = cap.read()\n",
    "    cv2.imwrite('./source-face/'+s+'.png', frame)\n",
    "    cap.release()"
   ],
   "id": "5fe8e4a2338c1e74",
   "outputs": [],
   "execution_count": 3
  }
 ],
 "metadata": {
  "kernelspec": {
   "display_name": "Python 3",
   "language": "python",
   "name": "python3"
  },
  "language_info": {
   "codemirror_mode": {
    "name": "ipython",
    "version": 2
   },
   "file_extension": ".py",
   "mimetype": "text/x-python",
   "name": "python",
   "nbconvert_exporter": "python",
   "pygments_lexer": "ipython2",
   "version": "2.7.6"
  }
 },
 "nbformat": 4,
 "nbformat_minor": 5
}
